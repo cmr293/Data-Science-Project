{
  "nbformat": 4,
  "nbformat_minor": 0,
  "metadata": {
    "kernelspec": {
      "display_name": "Python 3",
      "language": "python",
      "name": "python3"
    },
    "language_info": {
      "codemirror_mode": {
        "name": "ipython",
        "version": 3
      },
      "file_extension": ".py",
      "mimetype": "text/x-python",
      "name": "python",
      "nbconvert_exporter": "python",
      "pygments_lexer": "ipython3",
      "version": "3.7.6"
    },
    "colab": {
      "name": "proj2.ipynb",
      "provenance": [],
      "collapsed_sections": [],
      "toc_visible": true,
      "include_colab_link": true
    }
  },
  "cells": [
    {
      "cell_type": "markdown",
      "metadata": {
        "id": "view-in-github",
        "colab_type": "text"
      },
      "source": [
        "<a href=\"https://colab.research.google.com/github/cmr293/Data-Science-Project/blob/main/proj2.ipynb\" target=\"_parent\"><img src=\"https://colab.research.google.com/assets/colab-badge.svg\" alt=\"Open In Colab\"/></a>"
      ]
    },
    {
      "cell_type": "markdown",
      "metadata": {
        "id": "oxerPP2BrDaa"
      },
      "source": [
        "# Project Phase II\n",
        "Sydney Bednar sb844 and Chloe Reynolds cmr293"
      ]
    },
    {
      "cell_type": "markdown",
      "metadata": {
        "id": "CCzvqHmHrDai"
      },
      "source": [
        "### Research Questions\n",
        "1. To what extent is Uber driving out the NYC taxi business?\n",
        "2. How does the choice of driving service vary geographically across New York City?"
      ]
    },
    {
      "cell_type": "markdown",
      "metadata": {
        "id": "DlmkRuSrrDaj"
      },
      "source": [
        "### Data Collection and Cleaning"
      ]
    },
    {
      "cell_type": "markdown",
      "metadata": {
        "id": "aWFrKUZRvxdp"
      },
      "source": [
        "**Uber Data**"
      ]
    },
    {
      "cell_type": "code",
      "metadata": {
        "id": "_JoPDtFLrDak"
      },
      "source": [
        "import pandas as pd\n",
        "import numpy as np\n",
        "import matplotlib.pyplot as plt\n",
        "from scipy import stats"
      ],
      "execution_count": null,
      "outputs": []
    },
    {
      "cell_type": "code",
      "metadata": {
        "id": "oLWBJeqerDak"
      },
      "source": [
        "jan=pd.read_csv('january20_uber.csv')"
      ],
      "execution_count": null,
      "outputs": []
    },
    {
      "cell_type": "code",
      "metadata": {
        "id": "wMDDEiClrfQO"
      },
      "source": [
        "nov=pd.read_csv('nov19_uber.csv')"
      ],
      "execution_count": null,
      "outputs": []
    },
    {
      "cell_type": "code",
      "metadata": {
        "id": "kDHuvhvktE3z"
      },
      "source": [
        "sep=pd.read_csv('sep19_uber.csv')"
      ],
      "execution_count": null,
      "outputs": []
    },
    {
      "cell_type": "markdown",
      "metadata": {
        "id": "PSHaNY9ALyvI"
      },
      "source": [
        "These three data sets were pulled from the NYC Taxi & Limousine Commission website. They contain trip record data for high volume for-hire-vehicles in September and November 2019 and January 2020. We chose to focus on these three months so as not to look at patterns that may be due to COVID-19 but to keep the analysis as relevant as possible."
      ]
    },
    {
      "cell_type": "code",
      "metadata": {
        "colab": {
          "base_uri": "https://localhost:8080/",
          "height": 326
        },
        "id": "41hOZtZus9c7",
        "outputId": "5f230552-3cb6-4bd0-c72a-c7ef3512aaab"
      },
      "source": [
        "uber_data=pd.concat([nov,jan,sep])\n",
        "uber_data.head()"
      ],
      "execution_count": null,
      "outputs": [
        {
          "output_type": "execute_result",
          "data": {
            "text/html": [
              "<div>\n",
              "<style scoped>\n",
              "    .dataframe tbody tr th:only-of-type {\n",
              "        vertical-align: middle;\n",
              "    }\n",
              "\n",
              "    .dataframe tbody tr th {\n",
              "        vertical-align: top;\n",
              "    }\n",
              "\n",
              "    .dataframe thead th {\n",
              "        text-align: right;\n",
              "    }\n",
              "</style>\n",
              "<table border=\"1\" class=\"dataframe\">\n",
              "  <thead>\n",
              "    <tr style=\"text-align: right;\">\n",
              "      <th></th>\n",
              "      <th>Unnamed: 0</th>\n",
              "      <th>hvfhs_license_num</th>\n",
              "      <th>dispatching_base_num</th>\n",
              "      <th>pickup_datetime</th>\n",
              "      <th>dropoff_datetime</th>\n",
              "      <th>PULocationID</th>\n",
              "      <th>DOLocationID</th>\n",
              "      <th>SR_Flag</th>\n",
              "    </tr>\n",
              "  </thead>\n",
              "  <tbody>\n",
              "    <tr>\n",
              "      <th>0</th>\n",
              "      <td>13525715</td>\n",
              "      <td>HV0003</td>\n",
              "      <td>B02867</td>\n",
              "      <td>2019-11-19 13:12:43</td>\n",
              "      <td>2019-11-19 13:54:53</td>\n",
              "      <td>205</td>\n",
              "      <td>162</td>\n",
              "      <td>NaN</td>\n",
              "    </tr>\n",
              "    <tr>\n",
              "      <th>1</th>\n",
              "      <td>12756495</td>\n",
              "      <td>HV0004</td>\n",
              "      <td>B02800</td>\n",
              "      <td>2019-11-18 09:16:31</td>\n",
              "      <td>2019-11-18 09:28:45</td>\n",
              "      <td>107</td>\n",
              "      <td>246</td>\n",
              "      <td>1.0</td>\n",
              "    </tr>\n",
              "    <tr>\n",
              "      <th>2</th>\n",
              "      <td>11386610</td>\n",
              "      <td>HV0003</td>\n",
              "      <td>B02883</td>\n",
              "      <td>2019-11-16 16:30:25</td>\n",
              "      <td>2019-11-16 16:42:09</td>\n",
              "      <td>90</td>\n",
              "      <td>249</td>\n",
              "      <td>1.0</td>\n",
              "    </tr>\n",
              "    <tr>\n",
              "      <th>3</th>\n",
              "      <td>16959294</td>\n",
              "      <td>HV0005</td>\n",
              "      <td>B02510</td>\n",
              "      <td>2019-11-23 23:48:16</td>\n",
              "      <td>2019-11-23 23:59:00</td>\n",
              "      <td>228</td>\n",
              "      <td>14</td>\n",
              "      <td>NaN</td>\n",
              "    </tr>\n",
              "    <tr>\n",
              "      <th>4</th>\n",
              "      <td>452235</td>\n",
              "      <td>HV0003</td>\n",
              "      <td>B02864</td>\n",
              "      <td>2019-11-01 16:26:07</td>\n",
              "      <td>2019-11-01 17:26:56</td>\n",
              "      <td>40</td>\n",
              "      <td>132</td>\n",
              "      <td>NaN</td>\n",
              "    </tr>\n",
              "  </tbody>\n",
              "</table>\n",
              "</div>"
            ],
            "text/plain": [
              "   Unnamed: 0 hvfhs_license_num  ... DOLocationID SR_Flag\n",
              "0    13525715            HV0003  ...          162     NaN\n",
              "1    12756495            HV0004  ...          246     1.0\n",
              "2    11386610            HV0003  ...          249     1.0\n",
              "3    16959294            HV0005  ...           14     NaN\n",
              "4      452235            HV0003  ...          132     NaN\n",
              "\n",
              "[5 rows x 8 columns]"
            ]
          },
          "metadata": {
            "tags": []
          },
          "execution_count": 5
        }
      ]
    },
    {
      "cell_type": "markdown",
      "metadata": {
        "id": "_2p47CnxtdJC"
      },
      "source": [
        "We first downloaded 3 months worth of Uber data from NYC and sampled 10,000 rows from each because the datasets are too large in scope. We then merged the datasets together to work on it more easily."
      ]
    },
    {
      "cell_type": "code",
      "metadata": {
        "id": "bK-U5bX7t1hl",
        "colab": {
          "base_uri": "https://localhost:8080/",
          "height": 204
        },
        "outputId": "22886790-aff9-4635-f750-3ef0064cb6d3"
      },
      "source": [
        "uber_data=uber_data.drop(columns=['SR_Flag','dispatching_base_num','Unnamed: 0'])\n",
        "uber_data=uber_data.rename(columns={'hvfhs_license_num':'service'})\n",
        "uber_data=uber_data.loc[uber_data['service']=='HV0003'].reset_index(drop=True)\n",
        "uber_data.loc[:,'service']='UBER'\n",
        "uber_data.head()"
      ],
      "execution_count": null,
      "outputs": [
        {
          "output_type": "execute_result",
          "data": {
            "text/html": [
              "<div>\n",
              "<style scoped>\n",
              "    .dataframe tbody tr th:only-of-type {\n",
              "        vertical-align: middle;\n",
              "    }\n",
              "\n",
              "    .dataframe tbody tr th {\n",
              "        vertical-align: top;\n",
              "    }\n",
              "\n",
              "    .dataframe thead th {\n",
              "        text-align: right;\n",
              "    }\n",
              "</style>\n",
              "<table border=\"1\" class=\"dataframe\">\n",
              "  <thead>\n",
              "    <tr style=\"text-align: right;\">\n",
              "      <th></th>\n",
              "      <th>service</th>\n",
              "      <th>pickup_datetime</th>\n",
              "      <th>dropoff_datetime</th>\n",
              "      <th>PULocationID</th>\n",
              "      <th>DOLocationID</th>\n",
              "    </tr>\n",
              "  </thead>\n",
              "  <tbody>\n",
              "    <tr>\n",
              "      <th>0</th>\n",
              "      <td>UBER</td>\n",
              "      <td>2019-11-19 13:12:43</td>\n",
              "      <td>2019-11-19 13:54:53</td>\n",
              "      <td>205</td>\n",
              "      <td>162</td>\n",
              "    </tr>\n",
              "    <tr>\n",
              "      <th>1</th>\n",
              "      <td>UBER</td>\n",
              "      <td>2019-11-16 16:30:25</td>\n",
              "      <td>2019-11-16 16:42:09</td>\n",
              "      <td>90</td>\n",
              "      <td>249</td>\n",
              "    </tr>\n",
              "    <tr>\n",
              "      <th>2</th>\n",
              "      <td>UBER</td>\n",
              "      <td>2019-11-01 16:26:07</td>\n",
              "      <td>2019-11-01 17:26:56</td>\n",
              "      <td>40</td>\n",
              "      <td>132</td>\n",
              "    </tr>\n",
              "    <tr>\n",
              "      <th>3</th>\n",
              "      <td>UBER</td>\n",
              "      <td>2019-11-22 21:33:29</td>\n",
              "      <td>2019-11-22 21:49:24</td>\n",
              "      <td>140</td>\n",
              "      <td>7</td>\n",
              "    </tr>\n",
              "    <tr>\n",
              "      <th>4</th>\n",
              "      <td>UBER</td>\n",
              "      <td>2019-11-25 19:21:09</td>\n",
              "      <td>2019-11-25 19:51:12</td>\n",
              "      <td>132</td>\n",
              "      <td>223</td>\n",
              "    </tr>\n",
              "  </tbody>\n",
              "</table>\n",
              "</div>"
            ],
            "text/plain": [
              "  service      pickup_datetime     dropoff_datetime  PULocationID  DOLocationID\n",
              "0    UBER  2019-11-19 13:12:43  2019-11-19 13:54:53           205           162\n",
              "1    UBER  2019-11-16 16:30:25  2019-11-16 16:42:09            90           249\n",
              "2    UBER  2019-11-01 16:26:07  2019-11-01 17:26:56            40           132\n",
              "3    UBER  2019-11-22 21:33:29  2019-11-22 21:49:24           140             7\n",
              "4    UBER  2019-11-25 19:21:09  2019-11-25 19:51:12           132           223"
            ]
          },
          "metadata": {
            "tags": []
          },
          "execution_count": 6
        }
      ]
    },
    {
      "cell_type": "markdown",
      "metadata": {
        "id": "wwLLicQiK7GP"
      },
      "source": [
        "Because we are not interested in shared rides or dispatching bases, we deleted these columns and renamed the license number column to service. We also deleted the unnamed column that imported incorrectly into excel from the raw data. Based on the data description file for the raw data, the code HV003 corresponds to Uber, so we kept only the rows that were Uber rides as opposed to other for-hire-vehicles. Finally, to make it more clear, we renamed the license code 'HV003' to 'UBER' and reset the index of the dataframe."
      ]
    },
    {
      "cell_type": "code",
      "metadata": {
        "colab": {
          "base_uri": "https://localhost:8080/"
        },
        "id": "4p6PAxmWD_y3",
        "outputId": "1cb16e68-4bd9-4e5b-e1a8-380f2715002a"
      },
      "source": [
        "uber_data['pickup_datetime'] = pd.to_datetime(uber_data.pickup_datetime)\n",
        "uber_data['dropoff_datetime'] = pd.to_datetime(uber_data.dropoff_datetime)\n",
        "type(uber_data.pickup_datetime[0])\n"
      ],
      "execution_count": null,
      "outputs": [
        {
          "output_type": "execute_result",
          "data": {
            "text/plain": [
              "pandas._libs.tslibs.timestamps.Timestamp"
            ]
          },
          "metadata": {
            "tags": []
          },
          "execution_count": 7
        }
      ]
    },
    {
      "cell_type": "markdown",
      "metadata": {
        "id": "bof0Y6uFEAym"
      },
      "source": [
        "In order to use this data effectively, we needed to convert the pickup and dropoff datetime into official datetime format rather than string format. "
      ]
    },
    {
      "cell_type": "markdown",
      "metadata": {
        "id": "rxmS2j0EBjgP"
      },
      "source": [
        "**TLC Data**"
      ]
    },
    {
      "cell_type": "markdown",
      "metadata": {
        "id": "p7iehKm6Bv_l"
      },
      "source": [
        "We downloaded 3 months of yellow taxi data from NYC Taxi and Limousine Commission. They contain data from individual Taxi trips taken during that month. Since the total rows added up to over a million, we decided to sample 10,000 from each month in order to minimize data but also to not risk changing the ultimate effect of the data. We then converted these into a large dataset on an excel file in order to minimize computer storage and downloading time. We also chose this data based on the uber data available to match up the timing and months."
      ]
    },
    {
      "cell_type": "code",
      "metadata": {
        "colab": {
          "base_uri": "https://localhost:8080/",
          "height": 241
        },
        "id": "n2kUIENZBzfS",
        "outputId": "237381be-2dc8-4f9b-c8a3-7c8fae4b5e9d"
      },
      "source": [
        "TLC_data_prompt = 'TLC_data_excel.csv'\n",
        "TLC_data = pd.read_csv(TLC_data_prompt)\n",
        "TLC_data.head()"
      ],
      "execution_count": null,
      "outputs": [
        {
          "output_type": "execute_result",
          "data": {
            "text/html": [
              "<div>\n",
              "<style scoped>\n",
              "    .dataframe tbody tr th:only-of-type {\n",
              "        vertical-align: middle;\n",
              "    }\n",
              "\n",
              "    .dataframe tbody tr th {\n",
              "        vertical-align: top;\n",
              "    }\n",
              "\n",
              "    .dataframe thead th {\n",
              "        text-align: right;\n",
              "    }\n",
              "</style>\n",
              "<table border=\"1\" class=\"dataframe\">\n",
              "  <thead>\n",
              "    <tr style=\"text-align: right;\">\n",
              "      <th></th>\n",
              "      <th>Unnamed: 0</th>\n",
              "      <th>VendorID</th>\n",
              "      <th>tpep_pickup_datetime</th>\n",
              "      <th>tpep_dropoff_datetime</th>\n",
              "      <th>passenger_count</th>\n",
              "      <th>trip_distance</th>\n",
              "      <th>RatecodeID</th>\n",
              "      <th>store_and_fwd_flag</th>\n",
              "      <th>PULocationID</th>\n",
              "      <th>DOLocationID</th>\n",
              "      <th>payment_type</th>\n",
              "      <th>fare_amount</th>\n",
              "      <th>extra</th>\n",
              "      <th>mta_tax</th>\n",
              "      <th>tip_amount</th>\n",
              "      <th>tolls_amount</th>\n",
              "      <th>improvement_surcharge</th>\n",
              "      <th>total_amount</th>\n",
              "      <th>congestion_surcharge</th>\n",
              "    </tr>\n",
              "  </thead>\n",
              "  <tbody>\n",
              "    <tr>\n",
              "      <th>0</th>\n",
              "      <td>5968249</td>\n",
              "      <td>2.0</td>\n",
              "      <td>2020-01-30 14:35:17</td>\n",
              "      <td>2020-01-30 15:36:03</td>\n",
              "      <td>2.0</td>\n",
              "      <td>13.13</td>\n",
              "      <td>2.0</td>\n",
              "      <td>N</td>\n",
              "      <td>125</td>\n",
              "      <td>132</td>\n",
              "      <td>1.0</td>\n",
              "      <td>52.0</td>\n",
              "      <td>0.0</td>\n",
              "      <td>0.5</td>\n",
              "      <td>11.06</td>\n",
              "      <td>0.0</td>\n",
              "      <td>0.3</td>\n",
              "      <td>66.36</td>\n",
              "      <td>2.5</td>\n",
              "    </tr>\n",
              "    <tr>\n",
              "      <th>1</th>\n",
              "      <td>1658155</td>\n",
              "      <td>1.0</td>\n",
              "      <td>2020-01-09 22:29:06</td>\n",
              "      <td>2020-01-09 23:18:56</td>\n",
              "      <td>1.0</td>\n",
              "      <td>16.10</td>\n",
              "      <td>1.0</td>\n",
              "      <td>N</td>\n",
              "      <td>114</td>\n",
              "      <td>259</td>\n",
              "      <td>1.0</td>\n",
              "      <td>52.0</td>\n",
              "      <td>3.0</td>\n",
              "      <td>0.5</td>\n",
              "      <td>13.90</td>\n",
              "      <td>0.0</td>\n",
              "      <td>0.3</td>\n",
              "      <td>69.70</td>\n",
              "      <td>2.5</td>\n",
              "    </tr>\n",
              "    <tr>\n",
              "      <th>2</th>\n",
              "      <td>512214</td>\n",
              "      <td>2.0</td>\n",
              "      <td>2020-01-03 23:59:35</td>\n",
              "      <td>2020-01-04 00:11:07</td>\n",
              "      <td>2.0</td>\n",
              "      <td>2.80</td>\n",
              "      <td>1.0</td>\n",
              "      <td>N</td>\n",
              "      <td>249</td>\n",
              "      <td>163</td>\n",
              "      <td>1.0</td>\n",
              "      <td>10.5</td>\n",
              "      <td>0.5</td>\n",
              "      <td>0.5</td>\n",
              "      <td>3.58</td>\n",
              "      <td>0.0</td>\n",
              "      <td>0.3</td>\n",
              "      <td>17.88</td>\n",
              "      <td>2.5</td>\n",
              "    </tr>\n",
              "    <tr>\n",
              "      <th>3</th>\n",
              "      <td>3792602</td>\n",
              "      <td>1.0</td>\n",
              "      <td>2020-01-20 08:52:19</td>\n",
              "      <td>2020-01-20 08:56:25</td>\n",
              "      <td>1.0</td>\n",
              "      <td>0.60</td>\n",
              "      <td>1.0</td>\n",
              "      <td>N</td>\n",
              "      <td>239</td>\n",
              "      <td>238</td>\n",
              "      <td>1.0</td>\n",
              "      <td>5.0</td>\n",
              "      <td>2.5</td>\n",
              "      <td>0.5</td>\n",
              "      <td>1.66</td>\n",
              "      <td>0.0</td>\n",
              "      <td>0.3</td>\n",
              "      <td>9.96</td>\n",
              "      <td>2.5</td>\n",
              "    </tr>\n",
              "    <tr>\n",
              "      <th>4</th>\n",
              "      <td>22986</td>\n",
              "      <td>2.0</td>\n",
              "      <td>2020-01-01 01:18:53</td>\n",
              "      <td>2020-01-01 01:26:11</td>\n",
              "      <td>1.0</td>\n",
              "      <td>1.31</td>\n",
              "      <td>1.0</td>\n",
              "      <td>N</td>\n",
              "      <td>107</td>\n",
              "      <td>158</td>\n",
              "      <td>2.0</td>\n",
              "      <td>7.0</td>\n",
              "      <td>0.5</td>\n",
              "      <td>0.5</td>\n",
              "      <td>0.00</td>\n",
              "      <td>0.0</td>\n",
              "      <td>0.3</td>\n",
              "      <td>10.80</td>\n",
              "      <td>2.5</td>\n",
              "    </tr>\n",
              "  </tbody>\n",
              "</table>\n",
              "</div>"
            ],
            "text/plain": [
              "   Unnamed: 0  VendorID  ... total_amount congestion_surcharge\n",
              "0     5968249       2.0  ...        66.36                  2.5\n",
              "1     1658155       1.0  ...        69.70                  2.5\n",
              "2      512214       2.0  ...        17.88                  2.5\n",
              "3     3792602       1.0  ...         9.96                  2.5\n",
              "4       22986       2.0  ...        10.80                  2.5\n",
              "\n",
              "[5 rows x 19 columns]"
            ]
          },
          "metadata": {
            "tags": []
          },
          "execution_count": 8
        }
      ]
    },
    {
      "cell_type": "markdown",
      "metadata": {
        "id": "mAyov03it0pX"
      },
      "source": [
        "We combined the monthly data into one data set so that it will be easier to work with."
      ]
    },
    {
      "cell_type": "code",
      "metadata": {
        "colab": {
          "base_uri": "https://localhost:8080/",
          "height": 224
        },
        "id": "2lOhEcTyB7eU",
        "outputId": "6e1d3460-5b9d-4e25-9db6-86b664f349cc"
      },
      "source": [
        "TLC_data = TLC_data.drop(columns=['Unnamed: 0','payment_type','RatecodeID','store_and_fwd_flag','extra','mta_tax','tip_amount','tolls_amount','improvement_surcharge'])\n",
        "TLC_data.head()"
      ],
      "execution_count": null,
      "outputs": [
        {
          "output_type": "execute_result",
          "data": {
            "text/html": [
              "<div>\n",
              "<style scoped>\n",
              "    .dataframe tbody tr th:only-of-type {\n",
              "        vertical-align: middle;\n",
              "    }\n",
              "\n",
              "    .dataframe tbody tr th {\n",
              "        vertical-align: top;\n",
              "    }\n",
              "\n",
              "    .dataframe thead th {\n",
              "        text-align: right;\n",
              "    }\n",
              "</style>\n",
              "<table border=\"1\" class=\"dataframe\">\n",
              "  <thead>\n",
              "    <tr style=\"text-align: right;\">\n",
              "      <th></th>\n",
              "      <th>VendorID</th>\n",
              "      <th>tpep_pickup_datetime</th>\n",
              "      <th>tpep_dropoff_datetime</th>\n",
              "      <th>passenger_count</th>\n",
              "      <th>trip_distance</th>\n",
              "      <th>PULocationID</th>\n",
              "      <th>DOLocationID</th>\n",
              "      <th>fare_amount</th>\n",
              "      <th>total_amount</th>\n",
              "      <th>congestion_surcharge</th>\n",
              "    </tr>\n",
              "  </thead>\n",
              "  <tbody>\n",
              "    <tr>\n",
              "      <th>0</th>\n",
              "      <td>2.0</td>\n",
              "      <td>2020-01-30 14:35:17</td>\n",
              "      <td>2020-01-30 15:36:03</td>\n",
              "      <td>2.0</td>\n",
              "      <td>13.13</td>\n",
              "      <td>125</td>\n",
              "      <td>132</td>\n",
              "      <td>52.0</td>\n",
              "      <td>66.36</td>\n",
              "      <td>2.5</td>\n",
              "    </tr>\n",
              "    <tr>\n",
              "      <th>1</th>\n",
              "      <td>1.0</td>\n",
              "      <td>2020-01-09 22:29:06</td>\n",
              "      <td>2020-01-09 23:18:56</td>\n",
              "      <td>1.0</td>\n",
              "      <td>16.10</td>\n",
              "      <td>114</td>\n",
              "      <td>259</td>\n",
              "      <td>52.0</td>\n",
              "      <td>69.70</td>\n",
              "      <td>2.5</td>\n",
              "    </tr>\n",
              "    <tr>\n",
              "      <th>2</th>\n",
              "      <td>2.0</td>\n",
              "      <td>2020-01-03 23:59:35</td>\n",
              "      <td>2020-01-04 00:11:07</td>\n",
              "      <td>2.0</td>\n",
              "      <td>2.80</td>\n",
              "      <td>249</td>\n",
              "      <td>163</td>\n",
              "      <td>10.5</td>\n",
              "      <td>17.88</td>\n",
              "      <td>2.5</td>\n",
              "    </tr>\n",
              "    <tr>\n",
              "      <th>3</th>\n",
              "      <td>1.0</td>\n",
              "      <td>2020-01-20 08:52:19</td>\n",
              "      <td>2020-01-20 08:56:25</td>\n",
              "      <td>1.0</td>\n",
              "      <td>0.60</td>\n",
              "      <td>239</td>\n",
              "      <td>238</td>\n",
              "      <td>5.0</td>\n",
              "      <td>9.96</td>\n",
              "      <td>2.5</td>\n",
              "    </tr>\n",
              "    <tr>\n",
              "      <th>4</th>\n",
              "      <td>2.0</td>\n",
              "      <td>2020-01-01 01:18:53</td>\n",
              "      <td>2020-01-01 01:26:11</td>\n",
              "      <td>1.0</td>\n",
              "      <td>1.31</td>\n",
              "      <td>107</td>\n",
              "      <td>158</td>\n",
              "      <td>7.0</td>\n",
              "      <td>10.80</td>\n",
              "      <td>2.5</td>\n",
              "    </tr>\n",
              "  </tbody>\n",
              "</table>\n",
              "</div>"
            ],
            "text/plain": [
              "   VendorID tpep_pickup_datetime  ... total_amount  congestion_surcharge\n",
              "0       2.0  2020-01-30 14:35:17  ...        66.36                   2.5\n",
              "1       1.0  2020-01-09 22:29:06  ...        69.70                   2.5\n",
              "2       2.0  2020-01-03 23:59:35  ...        17.88                   2.5\n",
              "3       1.0  2020-01-20 08:52:19  ...         9.96                   2.5\n",
              "4       2.0  2020-01-01 01:18:53  ...        10.80                   2.5\n",
              "\n",
              "[5 rows x 10 columns]"
            ]
          },
          "metadata": {
            "tags": []
          },
          "execution_count": 9
        }
      ]
    },
    {
      "cell_type": "markdown",
      "metadata": {
        "id": "DFbGefsDB-q_"
      },
      "source": [
        "The dropped columns are removed as they are not useful to our research questions as well as they are not useful to use in connection with uber data. The Rate code ID has to do with rating of location, which is not applicable to our other data. Store and foward flag simply has to do with the driver's service connection, and the other removed columns are repetitive and not worthy for our data analysis. "
      ]
    },
    {
      "cell_type": "code",
      "metadata": {
        "colab": {
          "base_uri": "https://localhost:8080/",
          "height": 309
        },
        "id": "MICKFJhLCBFH",
        "outputId": "9fe7dcab-1e8d-4a1c-f5b6-428a9b0bef60"
      },
      "source": [
        "TLC_data = TLC_data.rename(columns={'VendorID':'service','tpep_pickup_datetime':'pickup_datetime','tpep_dropoff_datetime':'dropoff_datetime'})\n",
        "TLC_data = TLC_data.reset_index(drop=True)\n",
        "TLC_data.loc[:,'service']='TLC'\n",
        "TLC_data.head()"
      ],
      "execution_count": null,
      "outputs": [
        {
          "output_type": "execute_result",
          "data": {
            "text/html": [
              "<div>\n",
              "<style scoped>\n",
              "    .dataframe tbody tr th:only-of-type {\n",
              "        vertical-align: middle;\n",
              "    }\n",
              "\n",
              "    .dataframe tbody tr th {\n",
              "        vertical-align: top;\n",
              "    }\n",
              "\n",
              "    .dataframe thead th {\n",
              "        text-align: right;\n",
              "    }\n",
              "</style>\n",
              "<table border=\"1\" class=\"dataframe\">\n",
              "  <thead>\n",
              "    <tr style=\"text-align: right;\">\n",
              "      <th></th>\n",
              "      <th>service</th>\n",
              "      <th>pickup_datetime</th>\n",
              "      <th>dropoff_datetime</th>\n",
              "      <th>passenger_count</th>\n",
              "      <th>trip_distance</th>\n",
              "      <th>PULocationID</th>\n",
              "      <th>DOLocationID</th>\n",
              "      <th>fare_amount</th>\n",
              "      <th>total_amount</th>\n",
              "      <th>congestion_surcharge</th>\n",
              "    </tr>\n",
              "  </thead>\n",
              "  <tbody>\n",
              "    <tr>\n",
              "      <th>0</th>\n",
              "      <td>TLC</td>\n",
              "      <td>2020-01-30 14:35:17</td>\n",
              "      <td>2020-01-30 15:36:03</td>\n",
              "      <td>2.0</td>\n",
              "      <td>13.13</td>\n",
              "      <td>125</td>\n",
              "      <td>132</td>\n",
              "      <td>52.0</td>\n",
              "      <td>66.36</td>\n",
              "      <td>2.5</td>\n",
              "    </tr>\n",
              "    <tr>\n",
              "      <th>1</th>\n",
              "      <td>TLC</td>\n",
              "      <td>2020-01-09 22:29:06</td>\n",
              "      <td>2020-01-09 23:18:56</td>\n",
              "      <td>1.0</td>\n",
              "      <td>16.10</td>\n",
              "      <td>114</td>\n",
              "      <td>259</td>\n",
              "      <td>52.0</td>\n",
              "      <td>69.70</td>\n",
              "      <td>2.5</td>\n",
              "    </tr>\n",
              "    <tr>\n",
              "      <th>2</th>\n",
              "      <td>TLC</td>\n",
              "      <td>2020-01-03 23:59:35</td>\n",
              "      <td>2020-01-04 00:11:07</td>\n",
              "      <td>2.0</td>\n",
              "      <td>2.80</td>\n",
              "      <td>249</td>\n",
              "      <td>163</td>\n",
              "      <td>10.5</td>\n",
              "      <td>17.88</td>\n",
              "      <td>2.5</td>\n",
              "    </tr>\n",
              "    <tr>\n",
              "      <th>3</th>\n",
              "      <td>TLC</td>\n",
              "      <td>2020-01-20 08:52:19</td>\n",
              "      <td>2020-01-20 08:56:25</td>\n",
              "      <td>1.0</td>\n",
              "      <td>0.60</td>\n",
              "      <td>239</td>\n",
              "      <td>238</td>\n",
              "      <td>5.0</td>\n",
              "      <td>9.96</td>\n",
              "      <td>2.5</td>\n",
              "    </tr>\n",
              "    <tr>\n",
              "      <th>4</th>\n",
              "      <td>TLC</td>\n",
              "      <td>2020-01-01 01:18:53</td>\n",
              "      <td>2020-01-01 01:26:11</td>\n",
              "      <td>1.0</td>\n",
              "      <td>1.31</td>\n",
              "      <td>107</td>\n",
              "      <td>158</td>\n",
              "      <td>7.0</td>\n",
              "      <td>10.80</td>\n",
              "      <td>2.5</td>\n",
              "    </tr>\n",
              "  </tbody>\n",
              "</table>\n",
              "</div>"
            ],
            "text/plain": [
              "  service      pickup_datetime  ... total_amount  congestion_surcharge\n",
              "0     TLC  2020-01-30 14:35:17  ...        66.36                   2.5\n",
              "1     TLC  2020-01-09 22:29:06  ...        69.70                   2.5\n",
              "2     TLC  2020-01-03 23:59:35  ...        17.88                   2.5\n",
              "3     TLC  2020-01-20 08:52:19  ...         9.96                   2.5\n",
              "4     TLC  2020-01-01 01:18:53  ...        10.80                   2.5\n",
              "\n",
              "[5 rows x 10 columns]"
            ]
          },
          "metadata": {
            "tags": []
          },
          "execution_count": 10
        }
      ]
    },
    {
      "cell_type": "markdown",
      "metadata": {
        "id": "EcA23fwoCDjl"
      },
      "source": [
        "Vendor ID is a column that states where the data comes from, ranging from two NYC yellow taxi hubs. In our review of the data, both correspond to the yellow taxi data therefore, to make the data more legiable we will be renaming the values in this column 'TLC' and the column name 'service' as it will end up helping us down the line in using our data with other data. Also, we rename the data here in order to make it more comparable to uber data."
      ]
    },
    {
      "cell_type": "code",
      "metadata": {
        "colab": {
          "base_uri": "https://localhost:8080/"
        },
        "id": "bzYBoeahx3IB",
        "outputId": "c38a2a61-b0bd-440f-9a63-a7215285dd64"
      },
      "source": [
        "TLC_data['pickup_datetime'] = pd.to_datetime(TLC_data.pickup_datetime)\n",
        "TLC_data['dropoff_datetime'] = pd.to_datetime(TLC_data.dropoff_datetime)\n",
        "type(TLC_data.dropoff_datetime[0])\n",
        "\n",
        "\n",
        "  \n"
      ],
      "execution_count": null,
      "outputs": [
        {
          "output_type": "execute_result",
          "data": {
            "text/plain": [
              "pandas._libs.tslibs.timestamps.Timestamp"
            ]
          },
          "metadata": {
            "tags": []
          },
          "execution_count": 11
        }
      ]
    },
    {
      "cell_type": "markdown",
      "metadata": {
        "id": "CKmd4CGnDpWq"
      },
      "source": [
        "In order to use this data effectivly, we needed to convert the pickup and dropoff datetime into official datetime format rather than string format. "
      ]
    },
    {
      "cell_type": "markdown",
      "metadata": {
        "id": "LphZINXOjuiw"
      },
      "source": [
        "**TLC Zone Map - Location ID**"
      ]
    },
    {
      "cell_type": "code",
      "metadata": {
        "id": "1czySAvdlphh"
      },
      "source": [
        ""
      ],
      "execution_count": null,
      "outputs": []
    },
    {
      "cell_type": "markdown",
      "metadata": {
        "id": "Dx1LF9dHrDal"
      },
      "source": [
        "### Data Description"
      ]
    },
    {
      "cell_type": "markdown",
      "metadata": {
        "id": "s7X2Xq84pfQU"
      },
      "source": [
        "* What are the observations (rows) and the attributes (columns)?"
      ]
    },
    {
      "cell_type": "code",
      "metadata": {
        "colab": {
          "base_uri": "https://localhost:8080/",
          "height": 204
        },
        "id": "XST1hk3Yph9v",
        "outputId": "ab2da975-be02-4078-90ec-1c2ec0927361"
      },
      "source": [
        "uber_data.head()"
      ],
      "execution_count": null,
      "outputs": [
        {
          "output_type": "execute_result",
          "data": {
            "text/html": [
              "<div>\n",
              "<style scoped>\n",
              "    .dataframe tbody tr th:only-of-type {\n",
              "        vertical-align: middle;\n",
              "    }\n",
              "\n",
              "    .dataframe tbody tr th {\n",
              "        vertical-align: top;\n",
              "    }\n",
              "\n",
              "    .dataframe thead th {\n",
              "        text-align: right;\n",
              "    }\n",
              "</style>\n",
              "<table border=\"1\" class=\"dataframe\">\n",
              "  <thead>\n",
              "    <tr style=\"text-align: right;\">\n",
              "      <th></th>\n",
              "      <th>service</th>\n",
              "      <th>pickup_datetime</th>\n",
              "      <th>dropoff_datetime</th>\n",
              "      <th>PULocationID</th>\n",
              "      <th>DOLocationID</th>\n",
              "    </tr>\n",
              "  </thead>\n",
              "  <tbody>\n",
              "    <tr>\n",
              "      <th>0</th>\n",
              "      <td>UBER</td>\n",
              "      <td>2019-11-19 13:12:43</td>\n",
              "      <td>2019-11-19 13:54:53</td>\n",
              "      <td>205</td>\n",
              "      <td>162</td>\n",
              "    </tr>\n",
              "    <tr>\n",
              "      <th>1</th>\n",
              "      <td>UBER</td>\n",
              "      <td>2019-11-16 16:30:25</td>\n",
              "      <td>2019-11-16 16:42:09</td>\n",
              "      <td>90</td>\n",
              "      <td>249</td>\n",
              "    </tr>\n",
              "    <tr>\n",
              "      <th>2</th>\n",
              "      <td>UBER</td>\n",
              "      <td>2019-11-01 16:26:07</td>\n",
              "      <td>2019-11-01 17:26:56</td>\n",
              "      <td>40</td>\n",
              "      <td>132</td>\n",
              "    </tr>\n",
              "    <tr>\n",
              "      <th>3</th>\n",
              "      <td>UBER</td>\n",
              "      <td>2019-11-22 21:33:29</td>\n",
              "      <td>2019-11-22 21:49:24</td>\n",
              "      <td>140</td>\n",
              "      <td>7</td>\n",
              "    </tr>\n",
              "    <tr>\n",
              "      <th>4</th>\n",
              "      <td>UBER</td>\n",
              "      <td>2019-11-25 19:21:09</td>\n",
              "      <td>2019-11-25 19:51:12</td>\n",
              "      <td>132</td>\n",
              "      <td>223</td>\n",
              "    </tr>\n",
              "  </tbody>\n",
              "</table>\n",
              "</div>"
            ],
            "text/plain": [
              "  service     pickup_datetime    dropoff_datetime  PULocationID  DOLocationID\n",
              "0    UBER 2019-11-19 13:12:43 2019-11-19 13:54:53           205           162\n",
              "1    UBER 2019-11-16 16:30:25 2019-11-16 16:42:09            90           249\n",
              "2    UBER 2019-11-01 16:26:07 2019-11-01 17:26:56            40           132\n",
              "3    UBER 2019-11-22 21:33:29 2019-11-22 21:49:24           140             7\n",
              "4    UBER 2019-11-25 19:21:09 2019-11-25 19:51:12           132           223"
            ]
          },
          "metadata": {
            "tags": []
          },
          "execution_count": 12
        }
      ]
    },
    {
      "cell_type": "code",
      "metadata": {
        "colab": {
          "base_uri": "https://localhost:8080/",
          "height": 309
        },
        "id": "G0f3MFFUqCvq",
        "outputId": "810e1a64-1d06-414b-d4d1-c0f1f0a75526"
      },
      "source": [
        "TLC_data.head()"
      ],
      "execution_count": null,
      "outputs": [
        {
          "output_type": "execute_result",
          "data": {
            "text/html": [
              "<div>\n",
              "<style scoped>\n",
              "    .dataframe tbody tr th:only-of-type {\n",
              "        vertical-align: middle;\n",
              "    }\n",
              "\n",
              "    .dataframe tbody tr th {\n",
              "        vertical-align: top;\n",
              "    }\n",
              "\n",
              "    .dataframe thead th {\n",
              "        text-align: right;\n",
              "    }\n",
              "</style>\n",
              "<table border=\"1\" class=\"dataframe\">\n",
              "  <thead>\n",
              "    <tr style=\"text-align: right;\">\n",
              "      <th></th>\n",
              "      <th>service</th>\n",
              "      <th>pickup_datetime</th>\n",
              "      <th>dropoff_datetime</th>\n",
              "      <th>passenger_count</th>\n",
              "      <th>trip_distance</th>\n",
              "      <th>PULocationID</th>\n",
              "      <th>DOLocationID</th>\n",
              "      <th>fare_amount</th>\n",
              "      <th>total_amount</th>\n",
              "      <th>congestion_surcharge</th>\n",
              "    </tr>\n",
              "  </thead>\n",
              "  <tbody>\n",
              "    <tr>\n",
              "      <th>0</th>\n",
              "      <td>TLC</td>\n",
              "      <td>2020-01-30 14:35:17</td>\n",
              "      <td>2020-01-30 15:36:03</td>\n",
              "      <td>2.0</td>\n",
              "      <td>13.13</td>\n",
              "      <td>125</td>\n",
              "      <td>132</td>\n",
              "      <td>52.0</td>\n",
              "      <td>66.36</td>\n",
              "      <td>2.5</td>\n",
              "    </tr>\n",
              "    <tr>\n",
              "      <th>1</th>\n",
              "      <td>TLC</td>\n",
              "      <td>2020-01-09 22:29:06</td>\n",
              "      <td>2020-01-09 23:18:56</td>\n",
              "      <td>1.0</td>\n",
              "      <td>16.10</td>\n",
              "      <td>114</td>\n",
              "      <td>259</td>\n",
              "      <td>52.0</td>\n",
              "      <td>69.70</td>\n",
              "      <td>2.5</td>\n",
              "    </tr>\n",
              "    <tr>\n",
              "      <th>2</th>\n",
              "      <td>TLC</td>\n",
              "      <td>2020-01-03 23:59:35</td>\n",
              "      <td>2020-01-04 00:11:07</td>\n",
              "      <td>2.0</td>\n",
              "      <td>2.80</td>\n",
              "      <td>249</td>\n",
              "      <td>163</td>\n",
              "      <td>10.5</td>\n",
              "      <td>17.88</td>\n",
              "      <td>2.5</td>\n",
              "    </tr>\n",
              "    <tr>\n",
              "      <th>3</th>\n",
              "      <td>TLC</td>\n",
              "      <td>2020-01-20 08:52:19</td>\n",
              "      <td>2020-01-20 08:56:25</td>\n",
              "      <td>1.0</td>\n",
              "      <td>0.60</td>\n",
              "      <td>239</td>\n",
              "      <td>238</td>\n",
              "      <td>5.0</td>\n",
              "      <td>9.96</td>\n",
              "      <td>2.5</td>\n",
              "    </tr>\n",
              "    <tr>\n",
              "      <th>4</th>\n",
              "      <td>TLC</td>\n",
              "      <td>2020-01-01 01:18:53</td>\n",
              "      <td>2020-01-01 01:26:11</td>\n",
              "      <td>1.0</td>\n",
              "      <td>1.31</td>\n",
              "      <td>107</td>\n",
              "      <td>158</td>\n",
              "      <td>7.0</td>\n",
              "      <td>10.80</td>\n",
              "      <td>2.5</td>\n",
              "    </tr>\n",
              "  </tbody>\n",
              "</table>\n",
              "</div>"
            ],
            "text/plain": [
              "  service     pickup_datetime  ... total_amount  congestion_surcharge\n",
              "0     TLC 2020-01-30 14:35:17  ...        66.36                   2.5\n",
              "1     TLC 2020-01-09 22:29:06  ...        69.70                   2.5\n",
              "2     TLC 2020-01-03 23:59:35  ...        17.88                   2.5\n",
              "3     TLC 2020-01-20 08:52:19  ...         9.96                   2.5\n",
              "4     TLC 2020-01-01 01:18:53  ...        10.80                   2.5\n",
              "\n",
              "[5 rows x 10 columns]"
            ]
          },
          "metadata": {
            "tags": []
          },
          "execution_count": 13
        }
      ]
    },
    {
      "cell_type": "markdown",
      "metadata": {
        "id": "tYlNx5L0qE6a"
      },
      "source": [
        "Observations in these two datasets correspond to trips taken in NYC taxis or Ubers in September 2019, November 2019, and January 2020. Attributes for both datasets include the service, the pickup and dropoff date and time, the pickup location ID and the drop off location ID. The TLC dataset also includes the number of passengers, the trip distance, the fare amount, total amount for trip, and the congestion surcharge."
      ]
    },
    {
      "cell_type": "markdown",
      "metadata": {
        "id": "7rP9qCGLqtpF"
      },
      "source": [
        "* Why was this dataset created?\n",
        "\n",
        "Policy researchers at the NYC Taxi and Limousine Commission have compiled data from licensees in order to analyze changing trends in the industry and inform future City Council decisions."
      ]
    },
    {
      "cell_type": "markdown",
      "metadata": {
        "id": "IwNSe8U8sfAY"
      },
      "source": [
        "* Who funded the creation of the dataset?\n",
        "\n",
        "The NYC Taxi and Limousine Commision funded the creation of this dataset. Since this company is a NYC government agency, the NYC government is a part of the funding for all operations and data collection."
      ]
    },
    {
      "cell_type": "markdown",
      "metadata": {
        "id": "zLUEWk79tGVt"
      },
      "source": [
        "* What processes might have influenced what data was observed and recorded and what was not?"
      ]
    },
    {
      "cell_type": "markdown",
      "metadata": {
        "id": "R1Kzjv5M3OT0"
      },
      "source": [
        "For Uber data, something that is likely not recorded is cancelled trips as well as extension of uber trips that are not recorded in uber data, where a driver might drop off a user somewhere else. Also, within our own processes with this data, we were unable to keep the same amount of rows of data between both TLC and uber data. For the TLC data, the information is tranferred to two different 'yellow taxi hubs' that then record and send the data to the NYC Taxi and Limousine Commission where they ubload it online. "
      ]
    },
    {
      "cell_type": "markdown",
      "metadata": {
        "id": "CCJurWY76RcD"
      },
      "source": [
        "* What preprocessing was done, and how did the data come to be in the form that you are using?\n",
        "\n",
        "Technology providers were authorized to pull this data from Uber and NYC taxi trips in order for us to work with this dataset."
      ]
    },
    {
      "cell_type": "markdown",
      "metadata": {
        "id": "NffZdGua6fD2"
      },
      "source": [
        "* If people are involved, were they aware of the data collection and if so, what purpose did they expect the data to be used for?\n",
        "\n",
        "Both uber drivers and Yellow Taxi drivers are involved in this data as their pay and their liscenses are published. Through the nature of their job, they are hired with knowledge that their whereabouts, income per trip, and trip data will all be recorded for the sake of their companies through terms of agreement. In this case, yes they are aware of the data collection. They can expect their data to be used for the benefit of the company to be analyzed for both shareholders and those who are taking steps analyzing the data to improve the performance of the company.\n"
      ]
    },
    {
      "cell_type": "markdown",
      "metadata": {
        "id": "3uKmdLlZHNwP"
      },
      "source": [
        "* Where can your raw source data be found, if applicable? Provide a link to the raw data (hosted in a Cornell Google Drive or Cornell Box). \n",
        "\n",
        "https://drive.google.com/drive/folders/1VKqfyS099EOuOWD2OW9Efi2Oh9_FkVS2?usp=sharing"
      ]
    },
    {
      "cell_type": "markdown",
      "metadata": {
        "id": "BRU41saOrDal"
      },
      "source": [
        "### Data Limitations"
      ]
    },
    {
      "cell_type": "markdown",
      "metadata": {
        "id": "zlUZAQGUDGEn"
      },
      "source": [
        "Because we chose datasets pre-COVID, our results will not consider the impacts of COVID-19 on the industry as a whole. This limits the relativity of our data to today, it can still help us see different factors of the uber vs. yellow taxi fued in NYC.\n",
        "\n",
        "Additionally, since we took random samples of each monthly dataset, there may not be an even range of times of day. Hopefully, since we used random there should be an even number, however time of day is a section of data we will be looking closely at, so any data that has been altered through our process of cleaning could be dangerous to our final results.\n",
        "\n",
        "Another related data limitation is that the datasets are different sizes. TLC yellow taxi data is 30,000 rides while the total Uber data is only 21,000. This mean that the taxi data will be more accurate for thier time periods, and that it will be more difficult to compate statistics. \n",
        "\n",
        "Also, the data has no user information and therefore we are unable to see whats kinds of people (age, sex, etc) choose which kind of ride. The successfulness of a taxi or for hire vehicle business has a lot to do with the customer. What kind of customer picks one over the other? What trates of a customer can predict which ride they chose? This could be a large factor in the answer of our research questions, however that information is typically private so we are unable to use it. "
      ]
    },
    {
      "cell_type": "markdown",
      "metadata": {
        "id": "kvuUIRa0rDam"
      },
      "source": [
        "### Exploratory Data Analysis"
      ]
    },
    {
      "cell_type": "code",
      "metadata": {
        "colab": {
          "base_uri": "https://localhost:8080/"
        },
        "id": "UeqG2eARtMYe",
        "outputId": "156752bf-9b1a-48e2-f6e9-edaf6ef1fdc0"
      },
      "source": [
        "uber_pu_mode=uber_data.PULocationID.mode()\n",
        "uber_do_mode=uber_data.DOLocationID.mode()\n",
        "print(\"the most frequent uber pick-up location id: {:.0f}\".format(int(uber_pu_mode)))\n",
        "print(\"the most frequent uber drop-off location id: {:.0f}\".format(int(uber_do_mode)))"
      ],
      "execution_count": null,
      "outputs": [
        {
          "output_type": "stream",
          "text": [
            "the most frequent uber pick-up location id: 138\n",
            "the most frequent uber drop-off location id: 265\n"
          ],
          "name": "stdout"
        }
      ]
    },
    {
      "cell_type": "markdown",
      "metadata": {
        "id": "l6uFonL6pPgF"
      },
      "source": [
        "Referring back to the taxi zone ID datasheet (see google drive folder), zone 138 corresponds to LaGuardia airport. We will look further into trends with airport pickups. Unfortunately, zone 265 corresponds to an unknown location. This could be due to the Uber app glitching or people asking for different drop off spots than they requested."
      ]
    },
    {
      "cell_type": "code",
      "metadata": {
        "colab": {
          "base_uri": "https://localhost:8080/"
        },
        "id": "DBsloeHN9F2k",
        "outputId": "fb50f6e1-1788-4a54-c474-8af7fa508fe2"
      },
      "source": [
        "TLC_pu_mode=TLC_data.PULocationID.mode()\n",
        "TLC_do_mode=TLC_data.DOLocationID.mode()\n",
        "print(\"the most frequent NYC Taxi pick-up location id: {:.0f}\".format(int(TLC_pu_mode)))\n",
        "print(\"the most frequent NYC Taxi drop-off location id: {:.0f}\".format(int(TLC_do_mode)))"
      ],
      "execution_count": null,
      "outputs": [
        {
          "output_type": "stream",
          "text": [
            "the most frequent NYC Taxi pick-up location id: 237\n",
            "the most frequent NYC Taxi drop-off location id: 237\n"
          ],
          "name": "stdout"
        }
      ]
    },
    {
      "cell_type": "markdown",
      "metadata": {
        "id": "X5tz8_m4qcFy"
      },
      "source": [
        "Zone 237 corresponds to Manhattan Upper East Side South, and this is the most frequent pick-up and drop-off location for NYC taxis. We will do further investigating into length of trips and car service chosen. We hypothesize that shorter trips tend to be taken in taxis while longer tend to be Ubers."
      ]
    },
    {
      "cell_type": "code",
      "metadata": {
        "colab": {
          "base_uri": "https://localhost:8080/",
          "height": 573
        },
        "id": "P6hugyVG9VlT",
        "outputId": "d4b6e469-9e2d-42f5-bb47-61365b7a9bbd"
      },
      "source": [
        "# TLC pick up\n",
        "plt.hist(TLC_data.PULocationID, bins=30)\n",
        "plt.xlabel('LocationID')\n",
        "plt.ylabel('Number of Pick-Ups')\n",
        "plt.title('NYC Taxi Pick-Up Location IDs')\n",
        "plt.show()\n",
        "\n",
        "# TLC drop off\n",
        "plt.hist(TLC_data.DOLocationID, bins=30)\n",
        "plt.xlabel('LocationID')\n",
        "plt.ylabel('Number of Drop-Offs')\n",
        "plt.title('NYC Taxi Drop-Off Location IDs')\n",
        "plt.show()\n",
        "plt.show()"
      ],
      "execution_count": null,
      "outputs": [
        {
          "output_type": "display_data",
          "data": {
            "image/png": "[encoded data removed]",
            "text/plain": [
              "<Figure size 432x288 with 1 Axes>"
            ]
          },
          "metadata": {
            "tags": [],
            "needs_background": "light"
          }
        },
        {
          "output_type": "display_data",
          "data": {
            "image/png": "[encoded data removed]",
            "text/plain": [
              "<Figure size 432x288 with 1 Axes>"
            ]
          },
          "metadata": {
            "tags": [],
            "needs_background": "light"
          }
        }
      ]
    },
    {
      "cell_type": "code",
      "metadata": {
        "colab": {
          "base_uri": "https://localhost:8080/"
        },
        "id": "nvZI8w8rsj7X",
        "outputId": "e5bb61de-f528-4f18-f398-0907cdd3eb33"
      },
      "source": [
        "print(\"the mean NYC Taxi trip distance: {:.2f} miles\".format(TLC_data.trip_distance.mean()))"
      ],
      "execution_count": null,
      "outputs": [
        {
          "output_type": "stream",
          "text": [
            "the mean NYC Taxi trip distance: 2.95 miles\n"
          ],
          "name": "stdout"
        }
      ]
    },
    {
      "cell_type": "markdown",
      "metadata": {
        "id": "vjsh1jFEsDlN"
      },
      "source": [
        "Expanding on our above hypothesis, there is a very similar distribution of location IDs for pickups and drop offs, which could indicate shorter trips in taxis. Additionally,, the mean NYC Taxi trip distance was 2.95 miles. Since we do not have trip distances for the uber data set, we will begin to look at length in terms of time to make them comparable."
      ]
    },
    {
      "cell_type": "code",
      "metadata": {
        "id": "lkMSPzDTueXS"
      },
      "source": [
        "# length=pd.DataFrame()\n",
        "# length['uber']= uber_data.dropoff_datetime - uber_data.pickup_datetime\n",
        "# length['tlc']= TLC_data.dropoff_datetime - TLC_data.pickup_datetime\n"
      ],
      "execution_count": null,
      "outputs": []
    },
    {
      "cell_type": "code",
      "metadata": {
        "colab": {
          "base_uri": "https://localhost:8080/",
          "height": 573
        },
        "id": "UqP6GmGJ9w99",
        "outputId": "cc8d4713-37a2-40f0-8126-09b77856e3c1"
      },
      "source": [
        "# NYC Taxi\n",
        "pu_time=[x.hour for x in TLC_data.pickup_datetime]\n",
        "plt.hist(pu_time, bins=30)\n",
        "plt.xlabel('Hour of the Day')\n",
        "plt.ylabel('Number of Pick-Ups')\n",
        "plt.title('NYC Taxi Pick-Up Times by Hour')\n",
        "plt.show()\n",
        "\n",
        "# Uber\n",
        "u_pu_time=[x.hour for x in uber_data.pickup_datetime]\n",
        "plt.hist(u_pu_time, bins=30)\n",
        "plt.xlabel('Hour of the Day')\n",
        "plt.ylabel('Number of Pick-Ups')\n",
        "plt.title('Uber Pick-Up Times by Hour')\n",
        "plt.show()"
      ],
      "execution_count": null,
      "outputs": [
        {
          "output_type": "display_data",
          "data": {
            "image/png": "[encoded data removed]",
            "text/plain": [
              "<Figure size 432x288 with 1 Axes>"
            ]
          },
          "metadata": {
            "tags": [],
            "needs_background": "light"
          }
        },
        {
          "output_type": "display_data",
          "data": {
            "image/png": "[encoded data removed]",
            "text/plain": [
              "<Figure size 432x288 with 1 Axes>"
            ]
          },
          "metadata": {
            "tags": [],
            "needs_background": "light"
          }
        }
      ]
    },
    {
      "cell_type": "markdown",
      "metadata": {
        "id": "fpFhr7urw_H1"
      },
      "source": [
        "Comparing the two histograms, it appears that Uber and NYC Taxi have similar popular times of the day."
      ]
    },
    {
      "cell_type": "markdown",
      "metadata": {
        "id": "ASFjIOlvrDam"
      },
      "source": [
        "### Questions for Reviewers\n",
        "1. Would it be better for us to combine the datasets or is it ok to leave them separate?\n",
        "2. If we are using the location ID chart as a reference, should we be putting this in as data? \n",
        "3. What do you reccomend for ploting date/time graphs?\n",
        "4. What more numerical data can we use?\n",
        "5. Does any of the data suggest we should maybe edit our research questions?"
      ]
    },
    {
      "cell_type": "code",
      "metadata": {
        "id": "VASbB2xOrDam"
      },
      "source": [
        ""
      ],
      "execution_count": null,
      "outputs": []
    }
  ]
}